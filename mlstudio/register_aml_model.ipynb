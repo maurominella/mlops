{
 "cells": [
  {
   "cell_type": "code",
   "execution_count": 1,
   "id": "442ca141-cfcb-4f4f-9a2d-b197cd47ae46",
   "metadata": {},
   "outputs": [
    {
     "name": "stderr",
     "output_type": "stream",
     "text": [
      "Found the config file in: /config.json\n"
     ]
    }
   ],
   "source": [
    "# Connect to your workspace\n",
    "from azure.ai.ml import MLClient\n",
    "from azure.identity import DefaultAzureCredential\n",
    "\n",
    "ml_client = MLClient.from_config(credential=DefaultAzureCredential())"
   ]
  },
  {
   "cell_type": "code",
   "execution_count": 2,
   "id": "9ca60604-2ae6-45ce-ada4-fc2e15497981",
   "metadata": {},
   "outputs": [
    {
     "name": "stdout",
     "output_type": "stream",
     "text": [
      "Model Configuration:\n",
      "description: Automobile model exported from Azure ML Designer\n",
      "name: automobile_model\n",
      "path: /mnt/batch/tasks/shared/LS_root/mounts/clusters/dsvm-mem-optimized04/code/Users/mauro.minella/git_repos/ml_tests/Trained_model\n",
      "properties: {}\n",
      "tags: {}\n",
      "type: custom_model\n",
      "\n"
     ]
    }
   ],
   "source": [
    "# Model preparation\n",
    "\n",
    "from azure.ai.ml.entities import Model\n",
    "from pathlib import Path\n",
    "\n",
    "model = Model(\n",
    "    path=Path(\"Trained_model\"),  # Local path to your model folder\n",
    "    name=\"automobile_model\",\n",
    "    description=\"Automobile model exported from Azure ML Designer\",\n",
    "    type=\"custom_model\"\n",
    ")\n",
    "\n",
    "print(f\"Model Configuration:\\n{model}\")"
   ]
  },
  {
   "cell_type": "code",
   "execution_count": 3,
   "id": "087a9849-92b4-40eb-b5a2-8c4391a56773",
   "metadata": {},
   "outputs": [
    {
     "name": "stderr",
     "output_type": "stream",
     "text": [
      "\u001b[32mUploading Trained_model (0.01 MBs): 100%|██████████| 11369/11369 [00:00<00:00, 338227.77it/s]\n",
      "\u001b[39m\n",
      "\n"
     ]
    },
    {
     "name": "stdout",
     "output_type": "stream",
     "text": [
      "\n",
      "Model registered: automobile_model, version: 5\n",
      "creation_context:\n",
      "  created_at: '2025-06-23T16:40:17.872058+00:00'\n",
      "  created_by: Mauro Minella\n",
      "  created_by_type: User\n",
      "  last_modified_at: '2025-06-23T16:40:17.872058+00:00'\n",
      "  last_modified_by: Mauro Minella\n",
      "  last_modified_by_type: User\n",
      "description: Automobile model exported from Azure ML Designer\n",
      "id: azureml:/subscriptions/eca2eddb-0f0c-4351-a634-52751499eeea/resourceGroups/mmdatascience04grp/providers/Microsoft.MachineLearningServices/workspaces/mmamlwksp04/models/automobile_model/versions/5\n",
      "name: automobile_model\n",
      "path: azureml://subscriptions/eca2eddb-0f0c-4351-a634-52751499eeea/resourceGroups/mmdatascience04grp/workspaces/mmamlwksp04/datastores/workspaceblobstore/paths/LocalUpload/98c3ef53a0641e2610042d9b34a67386/Trained_model\n",
      "properties: {}\n",
      "stage: Development\n",
      "tags: {}\n",
      "type: custom_model\n",
      "version: '5'\n",
      "\n"
     ]
    }
   ],
   "source": [
    "registered_model = ml_client.models.create_or_update(model)\n",
    "print(f\"\\nModel registered: {registered_model.name}, version: {registered_model.version}\")\n",
    "\n",
    "print(registered_model)"
   ]
  }
 ],
 "metadata": {
  "kernelspec": {
   "display_name": "Python 3.10 - SDK v2",
   "language": "python",
   "name": "python310-sdkv2"
  },
  "language_info": {
   "codemirror_mode": {
    "name": "ipython",
    "version": 3
   },
   "file_extension": ".py",
   "mimetype": "text/x-python",
   "name": "python",
   "nbconvert_exporter": "python",
   "pygments_lexer": "ipython3",
   "version": "3.10.16"
  }
 },
 "nbformat": 4,
 "nbformat_minor": 5
}
